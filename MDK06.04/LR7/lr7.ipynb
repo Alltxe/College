{
 "cells": [
  {
   "cell_type": "code",
   "execution_count": 1,
   "metadata": {},
   "outputs": [],
   "source": [
    "# Импортируем необходимые библиотеки\n",
    "import pandas as pd\n",
    "import numpy as np\n",
    "from sklearn.model_selection import train_test_split\n",
    "from sklearn.linear_model import LinearRegression\n",
    "from sklearn.metrics import mean_squared_error, r2_score\n",
    "import matplotlib.pyplot as plt\n",
    "import seaborn as sns\n",
    "import xml.etree.ElementTree as ET\n",
    "import random\n",
    "from datetime import datetime\n",
    "\n",
    "# Настройка стиля графиков\n",
    "sns.set_style(\"whitegrid\")"
   ]
  },
  {
   "cell_type": "code",
   "execution_count": 2,
   "metadata": {},
   "outputs": [
    {
     "name": "stdout",
     "output_type": "stream",
     "text": [
      "\n",
      "Первые строки таблицы продаж:\n"
     ]
    },
    {
     "data": {
      "text/html": [
       "<div>\n",
       "<style scoped>\n",
       "    .dataframe tbody tr th:only-of-type {\n",
       "        vertical-align: middle;\n",
       "    }\n",
       "\n",
       "    .dataframe tbody tr th {\n",
       "        vertical-align: top;\n",
       "    }\n",
       "\n",
       "    .dataframe thead th {\n",
       "        text-align: right;\n",
       "    }\n",
       "</style>\n",
       "<table border=\"1\" class=\"dataframe\">\n",
       "  <thead>\n",
       "    <tr style=\"text-align: right;\">\n",
       "      <th></th>\n",
       "      <th>Model</th>\n",
       "      <th>Month</th>\n",
       "      <th>Sales</th>\n",
       "    </tr>\n",
       "  </thead>\n",
       "  <tbody>\n",
       "    <tr>\n",
       "      <th>0</th>\n",
       "      <td>Кресло Pero с подлокотниками FIRST</td>\n",
       "      <td>2024-04</td>\n",
       "      <td>70</td>\n",
       "    </tr>\n",
       "    <tr>\n",
       "      <th>1</th>\n",
       "      <td>Кресло Pero с подлокотниками FIRST</td>\n",
       "      <td>2024-05</td>\n",
       "      <td>67</td>\n",
       "    </tr>\n",
       "    <tr>\n",
       "      <th>2</th>\n",
       "      <td>Кресло Pero с подлокотниками FIRST</td>\n",
       "      <td>2024-06</td>\n",
       "      <td>56</td>\n",
       "    </tr>\n",
       "    <tr>\n",
       "      <th>3</th>\n",
       "      <td>Кресло Pero с подлокотниками FIRST</td>\n",
       "      <td>2024-07</td>\n",
       "      <td>45</td>\n",
       "    </tr>\n",
       "    <tr>\n",
       "      <th>4</th>\n",
       "      <td>Кресло Pero с подлокотниками FIRST</td>\n",
       "      <td>2024-08</td>\n",
       "      <td>49</td>\n",
       "    </tr>\n",
       "  </tbody>\n",
       "</table>\n",
       "</div>"
      ],
      "text/plain": [
       "                                Model    Month  Sales\n",
       "0  Кресло Pero с подлокотниками FIRST  2024-04     70\n",
       "1  Кресло Pero с подлокотниками FIRST  2024-05     67\n",
       "2  Кресло Pero с подлокотниками FIRST  2024-06     56\n",
       "3  Кресло Pero с подлокотниками FIRST  2024-07     45\n",
       "4  Кресло Pero с подлокотниками FIRST  2024-08     49"
      ]
     },
     "metadata": {},
     "output_type": "display_data"
    }
   ],
   "source": [
    "def generate_last_12_months():\n",
    "    today = datetime.today()\n",
    "    current_year = today.year\n",
    "    current_month = today.month\n",
    "    months = []\n",
    "    for i in range(12):\n",
    "        year = current_year\n",
    "        month = current_month - i\n",
    "        if month <= 0:\n",
    "            month += 12\n",
    "            year -= 1\n",
    "        months.append(f\"{year}-{month:02d}\")\n",
    "    months.reverse()\n",
    "    return months\n",
    "\n",
    "# Функция для генерации данных о продажах с использованием нормального распределения\n",
    "def generate_sales_dataframe(models, months):\n",
    "    data = []\n",
    "    for model in models:\n",
    "        mean_sales = random.randint(40, 80)  # Среднее значение продаж\n",
    "        std_dev_sales = random.uniform(5, 15)  # Стандартное отклонение\n",
    "        \n",
    "        for month in months:\n",
    "            # Генерация продаж с использованием нормального распределения\n",
    "            sales = max(0, int(np.random.normal(mean_sales, std_dev_sales)))\n",
    "            data.append({\n",
    "                'Model': model['name'],\n",
    "                'Month': month,\n",
    "                'Sales': sales\n",
    "            })\n",
    "    return pd.DataFrame(data)\n",
    "\n",
    "# парсинг XML-файла\n",
    "def parse_xml(file_path):\n",
    "    tree = ET.parse(file_path)\n",
    "    root = tree.getroot()\n",
    "    shop = root.find('shop')\n",
    "    offers = shop.find('offers').findall('offer')\n",
    "\n",
    "    models = []\n",
    "    for offer in offers:\n",
    "        model_id = offer.get('id')\n",
    "        model_name = offer.find('name').text\n",
    "        models.append({'id': model_id, 'name': model_name})\n",
    "    return models\n",
    "\n",
    "# Путь к XML файлу\n",
    "xml_file = '../LR6/couches.xml'\n",
    "models = parse_xml(xml_file)\n",
    "\n",
    "# Генерация данных о продажах\n",
    "months = generate_last_12_months()\n",
    "sales_df = generate_sales_dataframe(models, months)\n",
    "\n",
    "# Вывод первых строк DataFrame\n",
    "print(\"\\nПервые строки таблицы продаж:\")\n",
    "display(sales_df.head())"
   ]
  },
  {
   "cell_type": "code",
   "execution_count": null,
   "metadata": {},
   "outputs": [
    {
     "name": "stdout",
     "output_type": "stream",
     "text": [
      "\n",
      "Размер обучающей выборки: (28, 1)\n",
      "Размер тестовой выборки: (8, 1)\n"
     ]
    }
   ],
   "source": [
    "sales_df['Month_Num'] = pd.to_datetime(sales_df['Month']).dt.to_period('M').astype(int)\n",
    "\n",
    "\n",
    "# Разделяем данные на признаки (X) и целевую переменную (y)\n",
    "X = sales_df[['Month_Num']]  # Признак: номер месяца\n",
    "y = sales_df['Sales']        # Целевая переменная: продажи\n",
    "\n",
    "# Разделяем данные на обучающую и тестовую выборки\n",
    "X_train, X_test, y_train, y_test = train_test_split(X, y, test_size=0.2, random_state=42)\n",
    "\n",
    "print(f\"\\nРазмер обучающей выборки: {X_train.shape}\")\n",
    "print(f\"Размер тестовой выборки: {X_test.shape}\")"
   ]
  },
  {
   "cell_type": "code",
   "execution_count": 4,
   "metadata": {},
   "outputs": [
    {
     "name": "stdout",
     "output_type": "stream",
     "text": [
      "\n",
      "Коэффициенты модели:\n",
      "Intercept (свободный член): -318.3124719605205\n",
      "Coefficient (коэффициент наклона): 0.5771646478241366\n",
      "\n",
      "Метрики качества модели:\n",
      "MSE (среднеквадратичная ошибка): 118.85\n",
      "R2 Score (коэффициент детерминации): -0.27\n"
     ]
    }
   ],
   "source": [
    "# Создаем и обучаем модель линейной регрессии\n",
    "model = LinearRegression()\n",
    "model.fit(X_train, y_train)\n",
    "\n",
    "# Получаем коэффициенты модели\n",
    "print(\"\\nКоэффициенты модели:\")\n",
    "print(f\"Intercept (свободный член): {model.intercept_}\")\n",
    "print(f\"Coefficient (коэффициент наклона): {model.coef_[0]}\")\n",
    "\n",
    "# Оценка модели на тестовой выборке\n",
    "y_pred = model.predict(X_test)\n",
    "mse = mean_squared_error(y_test, y_pred)\n",
    "r2 = r2_score(y_test, y_pred)\n",
    "\n",
    "print(\"\\nМетрики качества модели:\")\n",
    "print(f\"MSE (среднеквадратичная ошибка): {mse:.2f}\")\n",
    "print(f\"R2 Score (коэффициент детерминации): {r2:.2f}\")"
   ]
  },
  {
   "cell_type": "code",
   "execution_count": 5,
   "metadata": {},
   "outputs": [
    {
     "name": "stdout",
     "output_type": "stream",
     "text": [
      "\n",
      "Прогноз продаж на следующий месяц (месяц 663): 64.35\n"
     ]
    },
    {
     "name": "stderr",
     "output_type": "stream",
     "text": [
      "C:\\Users\\Altxe\\AppData\\Roaming\\Python\\Python313\\site-packages\\sklearn\\utils\\validation.py:2739: UserWarning: X does not have valid feature names, but LinearRegression was fitted with feature names\n",
      "  warnings.warn(\n"
     ]
    }
   ],
   "source": [
    "# Прогноз на следующий месяц\n",
    "next_month_num = sales_df['Month_Num'].max() + 1\n",
    "next_month_sales = model.predict([[next_month_num]])\n",
    "\n",
    "print(f\"\\nПрогноз продаж на следующий месяц (месяц {next_month_num}): {next_month_sales[0]:.2f}\")"
   ]
  },
  {
   "cell_type": "code",
   "execution_count": 6,
   "metadata": {},
   "outputs": [
    {
     "data": {
      "image/png": "[encoded data removed]",
      "text/plain": [
       "<Figure size 1000x600 with 1 Axes>"
      ]
     },
     "metadata": {},
     "output_type": "display_data"
    }
   ],
   "source": [
    "# Визуализация фактических и прогнозируемых данных\n",
    "plt.figure(figsize=(10, 6))\n",
    "plt.scatter(X, y, color='blue', label='Фактические данные')\n",
    "plt.plot(X, model.predict(X), color='red', label='Линия регрессии')\n",
    "plt.scatter([next_month_num], [next_month_sales], color='green', label='Прогноз', s=100)\n",
    "\n",
    "plt.title('Прогнозирование продаж мебели', fontsize=16)\n",
    "plt.xlabel('Номер месяца', fontsize=12)\n",
    "plt.ylabel('Продажи', fontsize=12)\n",
    "plt.legend()\n",
    "plt.tight_layout()\n",
    "plt.show()"
   ]
  }
 ],
 "metadata": {
  "kernelspec": {
   "display_name": "Python 3",
   "language": "python",
   "name": "python3"
  },
  "language_info": {
   "codemirror_mode": {
    "name": "ipython",
    "version": 3
   },
   "file_extension": ".py",
   "mimetype": "text/x-python",
   "name": "python",
   "nbconvert_exporter": "python",
   "pygments_lexer": "ipython3",
   "version": "3.13.1"
  }
 },
 "nbformat": 4,
 "nbformat_minor": 2
}
