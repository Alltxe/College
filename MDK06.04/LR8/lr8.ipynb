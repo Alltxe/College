{
 "cells": [
  {
   "cell_type": "markdown",
   "id": "f7ada679",
   "metadata": {},
   "source": [
    "# Прогноз статуса заказа по данным Amazon Sales (2025)\n",
    "источник - https://www.kaggle.com/datasets/zahidmughal2343/amazon-sales-2025/data\n",
    "\n",
    "Columns Description:\n",
    "Order ID - Unique identifier for each order (e.g., ORD0001).\n",
    "\n",
    "Date - Date of the order.\n",
    "\n",
    "Product - Name of the product purchased.\n",
    "\n",
    "Category - Product category (Electronics, Clothing, Home Appliances, etc.).\n",
    "\n",
    "Price - Price of a single unit of the product.\n",
    "\n",
    "Quantity - Number of units purchased in the order.\n",
    "\n",
    "Total Sales - Total revenue from the order (Price × Quantity).\n",
    "\n",
    "Customer Name - Name of the customer.\n",
    "\n",
    "Customer Location - City where the customer is based.\n",
    "\n",
    "Payment Method - Mode of payment (Credit Card, Debit Card, PayPal, etc.).\n",
    "\n",
    "Status - Order status (Completed, Pending, or Cancelled).\n"
   ]
  },
  {
   "cell_type": "code",
   "execution_count": 164,
   "id": "693e0a26",
   "metadata": {},
   "outputs": [],
   "source": [
    "import pandas as pd\n",
    "import numpy as np\n",
    "import matplotlib.pyplot as plt\n",
    "import seaborn as sns\n",
    "\n",
    "from sklearn.model_selection import train_test_split\n",
    "from sklearn.linear_model import SGDClassifier, LogisticRegression\n",
    "from sklearn.metrics import confusion_matrix, accuracy_score\n",
    "from sklearn.preprocessing import StandardScaler"
   ]
  },
  {
   "cell_type": "code",
   "execution_count": 165,
   "id": "058b63b1",
   "metadata": {},
   "outputs": [
    {
     "data": {
      "text/html": [
       "<div>\n",
       "<style scoped>\n",
       "    .dataframe tbody tr th:only-of-type {\n",
       "        vertical-align: middle;\n",
       "    }\n",
       "\n",
       "    .dataframe tbody tr th {\n",
       "        vertical-align: top;\n",
       "    }\n",
       "\n",
       "    .dataframe thead th {\n",
       "        text-align: right;\n",
       "    }\n",
       "</style>\n",
       "<table border=\"1\" class=\"dataframe\">\n",
       "  <thead>\n",
       "    <tr style=\"text-align: right;\">\n",
       "      <th></th>\n",
       "      <th>Order ID</th>\n",
       "      <th>Date</th>\n",
       "      <th>Product</th>\n",
       "      <th>Category</th>\n",
       "      <th>Price</th>\n",
       "      <th>Quantity</th>\n",
       "      <th>Total Sales</th>\n",
       "      <th>Customer Name</th>\n",
       "      <th>Customer Location</th>\n",
       "      <th>Payment Method</th>\n",
       "      <th>Status</th>\n",
       "    </tr>\n",
       "  </thead>\n",
       "  <tbody>\n",
       "    <tr>\n",
       "      <th>0</th>\n",
       "      <td>ORD0001</td>\n",
       "      <td>14-03-25</td>\n",
       "      <td>Running Shoes</td>\n",
       "      <td>Footwear</td>\n",
       "      <td>60</td>\n",
       "      <td>3</td>\n",
       "      <td>180</td>\n",
       "      <td>Emma Clark</td>\n",
       "      <td>New York</td>\n",
       "      <td>Debit Card</td>\n",
       "      <td>Cancelled</td>\n",
       "    </tr>\n",
       "    <tr>\n",
       "      <th>1</th>\n",
       "      <td>ORD0002</td>\n",
       "      <td>20-03-25</td>\n",
       "      <td>Headphones</td>\n",
       "      <td>Electronics</td>\n",
       "      <td>100</td>\n",
       "      <td>4</td>\n",
       "      <td>400</td>\n",
       "      <td>Emily Johnson</td>\n",
       "      <td>San Francisco</td>\n",
       "      <td>Debit Card</td>\n",
       "      <td>Pending</td>\n",
       "    </tr>\n",
       "    <tr>\n",
       "      <th>2</th>\n",
       "      <td>ORD0003</td>\n",
       "      <td>15-02-25</td>\n",
       "      <td>Running Shoes</td>\n",
       "      <td>Footwear</td>\n",
       "      <td>60</td>\n",
       "      <td>2</td>\n",
       "      <td>120</td>\n",
       "      <td>John Doe</td>\n",
       "      <td>Denver</td>\n",
       "      <td>Amazon Pay</td>\n",
       "      <td>Cancelled</td>\n",
       "    </tr>\n",
       "    <tr>\n",
       "      <th>3</th>\n",
       "      <td>ORD0004</td>\n",
       "      <td>19-02-25</td>\n",
       "      <td>Running Shoes</td>\n",
       "      <td>Footwear</td>\n",
       "      <td>60</td>\n",
       "      <td>3</td>\n",
       "      <td>180</td>\n",
       "      <td>Olivia Wilson</td>\n",
       "      <td>Dallas</td>\n",
       "      <td>Credit Card</td>\n",
       "      <td>Pending</td>\n",
       "    </tr>\n",
       "    <tr>\n",
       "      <th>4</th>\n",
       "      <td>ORD0005</td>\n",
       "      <td>10-03-25</td>\n",
       "      <td>Smartwatch</td>\n",
       "      <td>Electronics</td>\n",
       "      <td>150</td>\n",
       "      <td>3</td>\n",
       "      <td>450</td>\n",
       "      <td>Emma Clark</td>\n",
       "      <td>New York</td>\n",
       "      <td>Debit Card</td>\n",
       "      <td>Pending</td>\n",
       "    </tr>\n",
       "  </tbody>\n",
       "</table>\n",
       "</div>"
      ],
      "text/plain": [
       "  Order ID      Date        Product     Category  Price  Quantity  \\\n",
       "0  ORD0001  14-03-25  Running Shoes     Footwear     60         3   \n",
       "1  ORD0002  20-03-25     Headphones  Electronics    100         4   \n",
       "2  ORD0003  15-02-25  Running Shoes     Footwear     60         2   \n",
       "3  ORD0004  19-02-25  Running Shoes     Footwear     60         3   \n",
       "4  ORD0005  10-03-25     Smartwatch  Electronics    150         3   \n",
       "\n",
       "   Total Sales  Customer Name Customer Location Payment Method     Status  \n",
       "0          180     Emma Clark          New York     Debit Card  Cancelled  \n",
       "1          400  Emily Johnson     San Francisco     Debit Card    Pending  \n",
       "2          120       John Doe            Denver     Amazon Pay  Cancelled  \n",
       "3          180  Olivia Wilson            Dallas    Credit Card    Pending  \n",
       "4          450     Emma Clark          New York     Debit Card    Pending  "
      ]
     },
     "execution_count": 165,
     "metadata": {},
     "output_type": "execute_result"
    }
   ],
   "source": [
    "# Загрузка данных\n",
    "df = pd.read_csv('amazon_sales_data 2025.csv')\n",
    "\n",
    "# Просмотр первых 5 строк\n",
    "df.head()"
   ]
  },
  {
   "cell_type": "code",
   "execution_count": 166,
   "id": "4fd26b4c",
   "metadata": {},
   "outputs": [
    {
     "name": "stdout",
     "output_type": "stream",
     "text": [
      "<class 'pandas.core.frame.DataFrame'>\n",
      "RangeIndex: 250 entries, 0 to 249\n",
      "Data columns (total 11 columns):\n",
      " #   Column             Non-Null Count  Dtype \n",
      "---  ------             --------------  ----- \n",
      " 0   Order ID           250 non-null    object\n",
      " 1   Date               250 non-null    object\n",
      " 2   Product            250 non-null    object\n",
      " 3   Category           250 non-null    object\n",
      " 4   Price              250 non-null    int64 \n",
      " 5   Quantity           250 non-null    int64 \n",
      " 6   Total Sales        250 non-null    int64 \n",
      " 7   Customer Name      250 non-null    object\n",
      " 8   Customer Location  250 non-null    object\n",
      " 9   Payment Method     250 non-null    object\n",
      " 10  Status             250 non-null    object\n",
      "dtypes: int64(3), object(8)\n",
      "memory usage: 21.6+ KB\n"
     ]
    }
   ],
   "source": [
    "# Информация о датафрейме\n",
    "df.info()"
   ]
  },
  {
   "cell_type": "code",
   "execution_count": 167,
   "id": "2b7893be",
   "metadata": {},
   "outputs": [
    {
     "data": {
      "text/html": [
       "<div>\n",
       "<style scoped>\n",
       "    .dataframe tbody tr th:only-of-type {\n",
       "        vertical-align: middle;\n",
       "    }\n",
       "\n",
       "    .dataframe tbody tr th {\n",
       "        vertical-align: top;\n",
       "    }\n",
       "\n",
       "    .dataframe thead th {\n",
       "        text-align: right;\n",
       "    }\n",
       "</style>\n",
       "<table border=\"1\" class=\"dataframe\">\n",
       "  <thead>\n",
       "    <tr style=\"text-align: right;\">\n",
       "      <th></th>\n",
       "      <th>Price</th>\n",
       "      <th>Quantity</th>\n",
       "      <th>Total Sales</th>\n",
       "    </tr>\n",
       "  </thead>\n",
       "  <tbody>\n",
       "    <tr>\n",
       "      <th>count</th>\n",
       "      <td>250.000000</td>\n",
       "      <td>250.000000</td>\n",
       "      <td>250.000000</td>\n",
       "    </tr>\n",
       "    <tr>\n",
       "      <th>mean</th>\n",
       "      <td>343.580000</td>\n",
       "      <td>2.856000</td>\n",
       "      <td>975.380000</td>\n",
       "    </tr>\n",
       "    <tr>\n",
       "      <th>std</th>\n",
       "      <td>380.635808</td>\n",
       "      <td>1.429489</td>\n",
       "      <td>1252.112254</td>\n",
       "    </tr>\n",
       "    <tr>\n",
       "      <th>min</th>\n",
       "      <td>15.000000</td>\n",
       "      <td>1.000000</td>\n",
       "      <td>15.000000</td>\n",
       "    </tr>\n",
       "    <tr>\n",
       "      <th>25%</th>\n",
       "      <td>40.000000</td>\n",
       "      <td>2.000000</td>\n",
       "      <td>100.000000</td>\n",
       "    </tr>\n",
       "    <tr>\n",
       "      <th>50%</th>\n",
       "      <td>150.000000</td>\n",
       "      <td>3.000000</td>\n",
       "      <td>400.000000</td>\n",
       "    </tr>\n",
       "    <tr>\n",
       "      <th>75%</th>\n",
       "      <td>600.000000</td>\n",
       "      <td>4.000000</td>\n",
       "      <td>1500.000000</td>\n",
       "    </tr>\n",
       "    <tr>\n",
       "      <th>max</th>\n",
       "      <td>1200.000000</td>\n",
       "      <td>5.000000</td>\n",
       "      <td>6000.000000</td>\n",
       "    </tr>\n",
       "  </tbody>\n",
       "</table>\n",
       "</div>"
      ],
      "text/plain": [
       "             Price    Quantity  Total Sales\n",
       "count   250.000000  250.000000   250.000000\n",
       "mean    343.580000    2.856000   975.380000\n",
       "std     380.635808    1.429489  1252.112254\n",
       "min      15.000000    1.000000    15.000000\n",
       "25%      40.000000    2.000000   100.000000\n",
       "50%     150.000000    3.000000   400.000000\n",
       "75%     600.000000    4.000000  1500.000000\n",
       "max    1200.000000    5.000000  6000.000000"
      ]
     },
     "execution_count": 167,
     "metadata": {},
     "output_type": "execute_result"
    }
   ],
   "source": [
    "# Описательная статистика по числовым признакам\n",
    "df.describe()"
   ]
  },
  {
   "cell_type": "code",
   "execution_count": 168,
   "id": "ff1e9281",
   "metadata": {},
   "outputs": [
    {
     "data": {
      "text/plain": [
       "Order ID             0\n",
       "Date                 0\n",
       "Product              0\n",
       "Category             0\n",
       "Price                0\n",
       "Quantity             0\n",
       "Total Sales          0\n",
       "Customer Name        0\n",
       "Customer Location    0\n",
       "Payment Method       0\n",
       "Status               0\n",
       "dtype: int64"
      ]
     },
     "execution_count": 168,
     "metadata": {},
     "output_type": "execute_result"
    }
   ],
   "source": [
    "# Проверим наличие пропусков\n",
    "df.isnull().sum()"
   ]
  },
  {
   "cell_type": "code",
   "execution_count": 169,
   "id": "f393b4e9",
   "metadata": {},
   "outputs": [
    {
     "data": {
      "text/html": [
       "<div>\n",
       "<style scoped>\n",
       "    .dataframe tbody tr th:only-of-type {\n",
       "        vertical-align: middle;\n",
       "    }\n",
       "\n",
       "    .dataframe tbody tr th {\n",
       "        vertical-align: top;\n",
       "    }\n",
       "\n",
       "    .dataframe thead th {\n",
       "        text-align: right;\n",
       "    }\n",
       "</style>\n",
       "<table border=\"1\" class=\"dataframe\">\n",
       "  <thead>\n",
       "    <tr style=\"text-align: right;\">\n",
       "      <th></th>\n",
       "      <th>Price</th>\n",
       "      <th>Quantity</th>\n",
       "      <th>Total Sales</th>\n",
       "      <th>Status</th>\n",
       "    </tr>\n",
       "  </thead>\n",
       "  <tbody>\n",
       "    <tr>\n",
       "      <th>0</th>\n",
       "      <td>60</td>\n",
       "      <td>3</td>\n",
       "      <td>180</td>\n",
       "      <td>Cancelled</td>\n",
       "    </tr>\n",
       "    <tr>\n",
       "      <th>1</th>\n",
       "      <td>100</td>\n",
       "      <td>4</td>\n",
       "      <td>400</td>\n",
       "      <td>Pending</td>\n",
       "    </tr>\n",
       "    <tr>\n",
       "      <th>2</th>\n",
       "      <td>60</td>\n",
       "      <td>2</td>\n",
       "      <td>120</td>\n",
       "      <td>Cancelled</td>\n",
       "    </tr>\n",
       "    <tr>\n",
       "      <th>3</th>\n",
       "      <td>60</td>\n",
       "      <td>3</td>\n",
       "      <td>180</td>\n",
       "      <td>Pending</td>\n",
       "    </tr>\n",
       "    <tr>\n",
       "      <th>4</th>\n",
       "      <td>150</td>\n",
       "      <td>3</td>\n",
       "      <td>450</td>\n",
       "      <td>Pending</td>\n",
       "    </tr>\n",
       "  </tbody>\n",
       "</table>\n",
       "</div>"
      ],
      "text/plain": [
       "   Price  Quantity  Total Sales     Status\n",
       "0     60         3          180  Cancelled\n",
       "1    100         4          400    Pending\n",
       "2     60         2          120  Cancelled\n",
       "3     60         3          180    Pending\n",
       "4    150         3          450    Pending"
      ]
     },
     "execution_count": 169,
     "metadata": {},
     "output_type": "execute_result"
    }
   ],
   "source": [
    "df = df.drop(columns=['Order ID', 'Date', 'Product', 'Category', 'Customer Name', 'Customer Location', 'Payment Method'])\n",
    "df.head()"
   ]
  },
  {
   "cell_type": "code",
   "execution_count": 170,
   "id": "82b18e3f",
   "metadata": {},
   "outputs": [
    {
     "name": "stdout",
     "output_type": "stream",
     "text": [
      "Используемые признаки: ['Price', 'Quantity', 'Total Sales']\n"
     ]
    }
   ],
   "source": [
    "X = df.drop('Status', axis=1)\n",
    "print(\"Используемые признаки:\", X.columns.tolist())\n",
    "y = df['Status']"
   ]
  },
  {
   "cell_type": "code",
   "execution_count": 171,
   "id": "d89d6e7d",
   "metadata": {},
   "outputs": [],
   "source": [
    "X_train, X_test, y_train, y_test = train_test_split(\n",
    "    X, y, test_size=0.3, random_state=42, stratify=y\n",
    ")"
   ]
  },
  {
   "cell_type": "code",
   "execution_count": 172,
   "id": "b40e7fbb",
   "metadata": {},
   "outputs": [],
   "source": [
    "# Масштабируем данные перед обучением SGDClassifier\n",
    "scaler_sgd = StandardScaler()\n",
    "X_train_scaled_sgd = scaler_sgd.fit_transform(X_train)\n",
    "X_test_scaled_sgd = scaler_sgd.transform(X_test)\n",
    "\n",
    "sgd_model = SGDClassifier(alpha=0.001, random_state=42, max_iter=1000, tol=1e-3)\n",
    "sgd_model.fit(X_train_scaled_sgd, y_train)\n",
    "y_pred_sgd = sgd_model.predict(X_test_scaled_sgd)"
   ]
  },
  {
   "cell_type": "code",
   "execution_count": 173,
   "id": "ee1d7d9a",
   "metadata": {},
   "outputs": [
    {
     "name": "stdout",
     "output_type": "stream",
     "text": [
      "Матрица ошибок SGDClassifier:\n",
      "[[ 0 12 11]\n",
      " [ 0 11 15]\n",
      " [ 0 10 16]]\n",
      "Accuracy SGDClassifier: 0.36\n"
     ]
    }
   ],
   "source": [
    "cm_sgd = confusion_matrix(y_test, y_pred_sgd)\n",
    "print(\"Матрица ошибок SGDClassifier:\")\n",
    "print(cm_sgd)\n",
    "\n",
    "accuracy_sgd = accuracy_score(y_test, y_pred_sgd)\n",
    "print(f\"Accuracy SGDClassifier: {accuracy_sgd:.2f}\")"
   ]
  },
  {
   "cell_type": "code",
   "execution_count": 174,
   "id": "e06bcd6a",
   "metadata": {},
   "outputs": [],
   "source": [
    "# Тренировка модели Logistic Regression\n",
    "logreg_model = LogisticRegression(max_iter=2000, random_state=42)\n",
    "logreg_model.fit(X_train, y_train)\n",
    "y_pred_logreg = logreg_model.predict(X_test)"
   ]
  },
  {
   "cell_type": "code",
   "execution_count": 175,
   "id": "94e61ae1",
   "metadata": {},
   "outputs": [
    {
     "name": "stdout",
     "output_type": "stream",
     "text": [
      "Матрица ошибок LogisticRegression:\n",
      "[[ 5 12  6]\n",
      " [ 6 13  7]\n",
      " [ 3 14  9]]\n",
      "Accuracy LogisticRegression: 0.36\n"
     ]
    }
   ],
   "source": [
    "cm_logreg = confusion_matrix(y_test, y_pred_logreg)\n",
    "print(\"Матрица ошибок LogisticRegression:\")\n",
    "print(cm_logreg)\n",
    "\n",
    "\n",
    "accuracy_logreg = accuracy_score(y_test, y_pred_logreg)\n",
    "print(f\"Accuracy LogisticRegression: {accuracy_logreg:.2f}\")"
   ]
  }
 ],
 "metadata": {
  "kernelspec": {
   "display_name": "base",
   "language": "python",
   "name": "python3"
  },
  "language_info": {
   "codemirror_mode": {
    "name": "ipython",
    "version": 3
   },
   "file_extension": ".py",
   "mimetype": "text/x-python",
   "name": "python",
   "nbconvert_exporter": "python",
   "pygments_lexer": "ipython3",
   "version": "3.12.7"
  }
 },
 "nbformat": 4,
 "nbformat_minor": 5
}
